{
 "cells": [
  {
   "cell_type": "markdown",
   "metadata": {},
   "source": [
    "<font size=\"6\"> <div class=\"alert alert-block alert-info\"> Chess Playing Agent </div> </font>\n",
    "  \n",
    "  <font size=\"4\"> **João Oliveira | jbboa@iscte-iul.pt** </font>\n",
    "  \n",
    "\n",
    "   In this notebook we will go over:\n",
    "   \n",
    "   * Preparation of required data to feed the agent.\n",
    "   * Executing the \"main.py\" script to observe the results of the game."
   ]
  },
  {
   "cell_type": "markdown",
   "metadata": {},
   "source": [
    "#### Prepare required data to feed the agent (moves and openings)"
   ]
  },
  {
   "cell_type": "code",
   "execution_count": null,
   "metadata": {},
   "outputs": [],
   "source": [
    "import pandas as pd\n",
    "\n",
    "# Read each CSV file into a separate DataFrame\n",
    "df_gameinfo = pd.read_csv(\"Carlsen_game_info.csv\") # This file contains general information about the game, each row is a game\n",
    "df_moves = pd.read_csv(\"Carlsen_moves.csv\") # This file contains all the moves played in a game, each move is a row\n",
    "df_ecocodes = pd.read_csv(\"eco_codes.csv\") # This file contains all openings frorm the the Encyclopaedia of Chess Openings (ECO)"
   ]
  },
  {
   "cell_type": "markdown",
   "metadata": {},
   "source": [
    "#### Openings / df_ecocodes"
   ]
  },
  {
   "cell_type": "code",
   "execution_count": 51,
   "metadata": {},
   "outputs": [
    {
     "data": {
      "text/html": [
       "<div>\n",
       "<style scoped>\n",
       "    .dataframe tbody tr th:only-of-type {\n",
       "        vertical-align: middle;\n",
       "    }\n",
       "\n",
       "    .dataframe tbody tr th {\n",
       "        vertical-align: top;\n",
       "    }\n",
       "\n",
       "    .dataframe thead th {\n",
       "        text-align: right;\n",
       "    }\n",
       "</style>\n",
       "<table border=\"1\" class=\"dataframe\">\n",
       "  <thead>\n",
       "    <tr style=\"text-align: right;\">\n",
       "      <th></th>\n",
       "      <th>eco</th>\n",
       "      <th>eco_name</th>\n",
       "      <th>eco_example</th>\n",
       "    </tr>\n",
       "  </thead>\n",
       "  <tbody>\n",
       "    <tr>\n",
       "      <th>0</th>\n",
       "      <td>A00</td>\n",
       "      <td>Uncommon Opening</td>\n",
       "      <td>1 g4, a3, h3, etc.</td>\n",
       "    </tr>\n",
       "    <tr>\n",
       "      <th>1</th>\n",
       "      <td>A01</td>\n",
       "      <td>Nimzovich-Larsen Attack</td>\n",
       "      <td>1 b3</td>\n",
       "    </tr>\n",
       "    <tr>\n",
       "      <th>2</th>\n",
       "      <td>A02</td>\n",
       "      <td>Bird's Opening</td>\n",
       "      <td>1 f4</td>\n",
       "    </tr>\n",
       "    <tr>\n",
       "      <th>3</th>\n",
       "      <td>A03</td>\n",
       "      <td>Bird's Opening</td>\n",
       "      <td>1 f4 d5</td>\n",
       "    </tr>\n",
       "    <tr>\n",
       "      <th>4</th>\n",
       "      <td>A04</td>\n",
       "      <td>Reti Opening</td>\n",
       "      <td>1 Nf3</td>\n",
       "    </tr>\n",
       "    <tr>\n",
       "      <th>...</th>\n",
       "      <td>...</td>\n",
       "      <td>...</td>\n",
       "      <td>...</td>\n",
       "    </tr>\n",
       "    <tr>\n",
       "      <th>495</th>\n",
       "      <td>E95</td>\n",
       "      <td>King's Indian, Orthodox, 7...Nbd7, 8.Re1</td>\n",
       "      <td>1 d4 Nf6 2 c4 g6 3 Nc3 Bg7 4 e4 d6 5 Nf3 O-O 6...</td>\n",
       "    </tr>\n",
       "    <tr>\n",
       "      <th>496</th>\n",
       "      <td>E96</td>\n",
       "      <td>King's Indian, Orthodox, 7...Nbd7, Main line</td>\n",
       "      <td>1 d4 Nf6 2 c4 g6 3 Nc3 Bg7 4 e4 d6 5 Nf3 O-O 6...</td>\n",
       "    </tr>\n",
       "    <tr>\n",
       "      <th>497</th>\n",
       "      <td>E97</td>\n",
       "      <td>King's Indian</td>\n",
       "      <td>1 d4 Nf6 2 c4 g6 3 Nc3 Bg7 4 e4 d6 5 Nf3 O-O 6...</td>\n",
       "    </tr>\n",
       "    <tr>\n",
       "      <th>498</th>\n",
       "      <td>E98</td>\n",
       "      <td>King's Indian, Orthodox, Taimanov, 9.Ne1</td>\n",
       "      <td>1 d4 Nf6 2 c4 g6 3 Nc3 Bg7 4 e4 d6 5 Nf3 O-O 6...</td>\n",
       "    </tr>\n",
       "    <tr>\n",
       "      <th>499</th>\n",
       "      <td>E99</td>\n",
       "      <td>King's Indian, Orthodox, Taimanov</td>\n",
       "      <td>1 d4 Nf6 2 c4 g6 3 Nc3 Bg7 4 e4 d6 5 Nf3 O-O 6...</td>\n",
       "    </tr>\n",
       "  </tbody>\n",
       "</table>\n",
       "<p>500 rows × 3 columns</p>\n",
       "</div>"
      ],
      "text/plain": [
       "     eco                                      eco_name  \\\n",
       "0    A00                              Uncommon Opening   \n",
       "1    A01                       Nimzovich-Larsen Attack   \n",
       "2    A02                                Bird's Opening   \n",
       "3    A03                                Bird's Opening   \n",
       "4    A04                                  Reti Opening   \n",
       "..   ...                                           ...   \n",
       "495  E95      King's Indian, Orthodox, 7...Nbd7, 8.Re1   \n",
       "496  E96  King's Indian, Orthodox, 7...Nbd7, Main line   \n",
       "497  E97                                 King's Indian   \n",
       "498  E98      King's Indian, Orthodox, Taimanov, 9.Ne1   \n",
       "499  E99             King's Indian, Orthodox, Taimanov   \n",
       "\n",
       "                                           eco_example  \n",
       "0                                   1 g4, a3, h3, etc.  \n",
       "1                                                 1 b3  \n",
       "2                                                 1 f4  \n",
       "3                                              1 f4 d5  \n",
       "4                                                1 Nf3  \n",
       "..                                                 ...  \n",
       "495  1 d4 Nf6 2 c4 g6 3 Nc3 Bg7 4 e4 d6 5 Nf3 O-O 6...  \n",
       "496  1 d4 Nf6 2 c4 g6 3 Nc3 Bg7 4 e4 d6 5 Nf3 O-O 6...  \n",
       "497  1 d4 Nf6 2 c4 g6 3 Nc3 Bg7 4 e4 d6 5 Nf3 O-O 6...  \n",
       "498  1 d4 Nf6 2 c4 g6 3 Nc3 Bg7 4 e4 d6 5 Nf3 O-O 6...  \n",
       "499  1 d4 Nf6 2 c4 g6 3 Nc3 Bg7 4 e4 d6 5 Nf3 O-O 6...  \n",
       "\n",
       "[500 rows x 3 columns]"
      ]
     },
     "execution_count": 51,
     "metadata": {},
     "output_type": "execute_result"
    }
   ],
   "source": [
    "df_ecocodes.drop(columns=['eco_type', 'eco_group'], inplace=True)\n",
    "df_ecocodes"
   ]
  },
  {
   "cell_type": "markdown",
   "metadata": {},
   "source": [
    "#### Magnus Carlsen moves in games where he won with white or black pieces within specific events"
   ]
  },
  {
   "cell_type": "code",
   "execution_count": 5,
   "metadata": {},
   "outputs": [],
   "source": [
    "##### Moves DataFrame #####\n",
    "\n",
    "# Select only the specified columns\n",
    "columns_to_keep = ['game_id', 'move_sequence'] # List of columns to keep\n",
    "df_moves = df_moves.loc[:, columns_to_keep]\n",
    "\n",
    "##### Games DataFrame #####\n",
    "\n",
    "# Select only the specified columns\n",
    "columns_to_keep = ['game_id', 'white', 'winner', 'event', 'eco'] # List of columns to keep\n",
    "df_gameinfo = df_gameinfo.loc[:, columns_to_keep]\n",
    "\n",
    "# Convert columns\n",
    "df_gameinfo['white'] = df_gameinfo['white'].apply(lambda x: 1 if x == 'Carlsen,M' or x == 'Carlsen,Magnus'else 0)\n",
    "df_gameinfo['result'] = df_gameinfo['winner'].apply(lambda x: 1 if x == 'Carlsen,M' or x == 'Carlsen,Magnus'else (2 if x == 'draw' else 0))\n",
    "\n",
    "# Select only the games which Magnus won\n",
    "df_gameinfo = df_gameinfo[df_gameinfo['result'] == 1] # Select the games which Magnus won\n",
    "#df_gameinfo = df_gameinfo[df_gameinfo['result'] != 0] # Select the games which Magnus won or drew\n",
    "\n",
    "# List of specific values to keep within the 'event' column\n",
    "specific_events = ['84th Tata Steel Masters', '83rd Tata Steel Masters', '82nd Tata Steel GpA', '81st Tata Steel GpA', '80th Tata Steel GpA', '80th Tata Steel GpA TB', '79th Tata Steel GpA', '78th Tata Steel GpA', '77th Tata Steel GpA', '75th Tata Steel GpA', '74th Tata Steel GMA', '73rd Tata Steel GMA', # Wijk aan Zee/Tata Steel Masters\n",
    "   '44th Olympiad 2022', '42nd Olympiad 2016', '41st Olympiad Open 2014', '39th Olympiad Men', '38th Olympiad', '37th Olympiad', '36th Olympiad', 'Event3', # Olympiads\n",
    "   'FIDE World Cup 2021', 'World Blitz 2021', 'World Rapid 2021', 'World Rapid 2019', 'World Blitz 2019', 'World Blitz TB 2019', 'World Rapid 2018', 'World Blitz 2018', 'FIDE World Cup 2017', 'World Blitz 2017', 'World Rapid 2017', 'World Blitz 2016', 'World Rapid 2016', 'World Rapid 2015', 'World Blitz 2015', 'FIDE World Rapid 2014', 'FIDE World Blitz 2014', 'FIDE Candidates', 'World Blitz Final', 'VI World Blitz' 'World Rapid Final', 'VI World Blitz', 'World Cup', 'World Blitz',  # FIDE World championships\n",
    "   '7th Sinquefield Cup 2019', '7th Sinquefield Cup TB', '6th Sinquefield Cup 2018', '5th Sinquefield Cup 2017', '3rd Sinquefield Cup 2015', '2nd Sinquefield Cup 2014', 'Sinquefield Cup 2013'] # Sinquefield cup\n",
    "df_gameinfo = df_gameinfo[df_gameinfo['event'].isin(specific_events)]\n",
    "df_gameinfo.drop(columns=['winner', 'event'], inplace=True)\n",
    "df_gameinfo.reset_index(drop=True, inplace=True)\n",
    "df_gameinfo = pd.merge(df_gameinfo, df_moves, on='game_id', how='left')\n",
    "\n",
    "# Find the longest move sequence per game_id, since the merge created multiple rows per game_id\n",
    "\n",
    "# Ensure move_sequence is treated as a string and measure its length\n",
    "df_gameinfo['sequence_length'] = df_gameinfo['move_sequence'].str.len()\n",
    "\n",
    "# Keep only the rows where the move_sequence length is the longest per game_id\n",
    "df_gameinfo = df_gameinfo.loc[df_gameinfo.groupby('game_id')['sequence_length'].idxmax()]\n",
    "df_gameinfo.drop(columns=['sequence_length'], inplace=True)\n",
    "df_gameinfo.reset_index(drop=True, inplace=True)\n",
    "\n",
    "# Filter df_gameinfo for white and black players\n",
    "df_whitegames = df_gameinfo[df_gameinfo['white'] == 1].reset_index(drop=True)\n",
    "df_whitegames.drop(columns=['game_id', 'white', 'result'], inplace=True)\n",
    "df_blackgames = df_gameinfo[df_gameinfo['white'] == 0].reset_index(drop=True)\n",
    "df_blackgames.drop(columns=['game_id', 'white', 'result'], inplace=True)"
   ]
  },
  {
   "cell_type": "code",
   "execution_count": 47,
   "metadata": {},
   "outputs": [],
   "source": [
    "# Save the DataFrames to a CSV files\n",
    "df_blackgames.to_csv('black.csv.gz', index=False, compression='gzip')\n",
    "df_whitegames.to_csv('white.csv.gz', index=False, compression='gzip')\n",
    "df_ecocodes.to_csv('openings.csv.gz', index=False, compression='gzip')"
   ]
  },
  {
   "cell_type": "markdown",
   "metadata": {},
   "source": [
    "#### Agent executable"
   ]
  },
  {
   "cell_type": "code",
   "execution_count": null,
   "metadata": {},
   "outputs": [],
   "source": [
    "%run main.py"
   ]
  }
 ],
 "metadata": {
  "kernelspec": {
   "display_name": "fraud",
   "language": "python",
   "name": "python3"
  },
  "language_info": {
   "codemirror_mode": {
    "name": "ipython",
    "version": 3
   },
   "file_extension": ".py",
   "mimetype": "text/x-python",
   "name": "python",
   "nbconvert_exporter": "python",
   "pygments_lexer": "ipython3",
   "version": "3.10.13"
  }
 },
 "nbformat": 4,
 "nbformat_minor": 2
}
